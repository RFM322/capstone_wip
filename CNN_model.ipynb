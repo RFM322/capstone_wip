{
 "cells": [
  {
   "cell_type": "markdown",
   "metadata": {},
   "source": [
    "## Notebook set up"
   ]
  },
  {
   "cell_type": "code",
   "execution_count": 49,
   "metadata": {},
   "outputs": [],
   "source": [
    "#Import libraries\n",
    "import numpy as np\n",
    "import pandas as pd\n",
    "import matplotlib.pyplot as plt\n",
    "%matplotlib inline\n",
    "\n",
    "# For reproducibility\n",
    "np.random.seed(42)\n",
    "\n",
    "#Import CNN sklearn libraries\n",
    "from keras.models import Sequential\n",
    "from keras.layers import Dense, Dropout, Activation, Flatten, Conv2D, MaxPooling2D\n",
    "from keras.utils import np_utils\n",
    "from keras import regularizers\n",
    "from keras.optimizers import Adamax\n",
    "from keras import optimizers\n",
    "from keras.callbacks import ReduceLROnPlateau\n",
    "from keras.wrappers.scikit_learn import KerasClassifier\n",
    "\n",
    "#Import model selection\n",
    "from sklearn.model_selection import train_test_split\n",
    "\n",
    "#Import Grid Search\n",
    "from sklearn.model_selection import GridSearchCV\n"
   ]
  },
  {
   "cell_type": "markdown",
   "metadata": {},
   "source": [
    "## Preprocessing"
   ]
  },
  {
   "cell_type": "code",
   "execution_count": 5,
   "metadata": {},
   "outputs": [],
   "source": [
    "#Read the X variable from the Data Architecture Notebook\n",
    "X1 = np.load('cnn_dataset_rest.npy')\n",
    "X2 = np.load('cnn_dataset_food.npy')\n",
    "X3 = np.load('cnn_dataset_bars.npy')\n",
    "X4 = np.load('cnn_dataset_shopping.npy')\n",
    "\n",
    "X = np.concatenate((\n",
    "    X1,\n",
    "    X2,\n",
    "    X3,\n",
    "    X4\n",
    "),\n",
    "    axis=0)"
   ]
  },
  {
   "cell_type": "code",
   "execution_count": 6,
   "metadata": {},
   "outputs": [
    {
     "data": {
      "text/plain": [
       "(34108, 17, 16, 10)"
      ]
     },
     "execution_count": 6,
     "metadata": {},
     "output_type": "execute_result"
    }
   ],
   "source": [
    "#Check the shape\n",
    "X.shape"
   ]
  },
  {
   "cell_type": "code",
   "execution_count": 7,
   "metadata": {},
   "outputs": [],
   "source": [
    "#Import the target (y) variable from the Data Architecture Notebook\n",
    "y1 = np.load('target_rest.npy')\n",
    "y2 = np.load('target_food.npy')\n",
    "y3 = np.load('target_bars.npy')\n",
    "y4 = np.load('target_shopping.npy')\n",
    "\n",
    "y = np.concatenate((\n",
    "    y1,\n",
    "    y2,\n",
    "    y3,\n",
    "    y4\n",
    "),\n",
    "    axis=0)"
   ]
  },
  {
   "cell_type": "code",
   "execution_count": 8,
   "metadata": {},
   "outputs": [
    {
     "data": {
      "text/plain": [
       "(34108,)"
      ]
     },
     "execution_count": 8,
     "metadata": {},
     "output_type": "execute_result"
    }
   ],
   "source": [
    "#Check the shape\n",
    "y.shape"
   ]
  },
  {
   "cell_type": "code",
   "execution_count": 9,
   "metadata": {},
   "outputs": [],
   "source": [
    "#Change datatype to float\n",
    "X = X.astype('float32')"
   ]
  },
  {
   "cell_type": "code",
   "execution_count": 10,
   "metadata": {},
   "outputs": [],
   "source": [
    "#Hot encode the y variable\n",
    "y = np_utils.to_categorical(y,2).astype('float32')"
   ]
  },
  {
   "cell_type": "code",
   "execution_count": 11,
   "metadata": {},
   "outputs": [],
   "source": [
    "#Import the numpy array that indicates that a business is a restaurant\n",
    "r1 = np.load('rest_category.npy')\n",
    "r2 = np.load('food_category.npy')\n",
    "r3 = np.load('bars_category.npy')\n",
    "r4 = np.load('shopping_category.npy')\n",
    "\n",
    "r = np.concatenate((\n",
    "    r1,\n",
    "    r2,\n",
    "    r3,\n",
    "    r4\n",
    "),\n",
    "    axis=0)"
   ]
  },
  {
   "cell_type": "code",
   "execution_count": 12,
   "metadata": {},
   "outputs": [
    {
     "data": {
      "text/plain": [
       "((5924, 17, 16, 10), (5924, 2))"
      ]
     },
     "execution_count": 12,
     "metadata": {},
     "output_type": "execute_result"
    }
   ],
   "source": [
    "#Mask X and y with r to show only restaurants in the model\n",
    "mask = np.flatnonzero(r)\n",
    "\n",
    "#Mask y to be the y var for the restaurants only\n",
    "y = y[mask]\n",
    "\n",
    "#Mask the X to be the y var for the restaurants only\n",
    "X = X[mask]\n",
    "\n",
    "#Check the shapes\n",
    "X.shape, y.shape"
   ]
  },
  {
   "cell_type": "markdown",
   "metadata": {},
   "source": [
    "## Modelling\n"
   ]
  },
  {
   "cell_type": "code",
   "execution_count": 13,
   "metadata": {},
   "outputs": [],
   "source": [
    "#Train test split the original df\n",
    "X_train, X_test, y_train, y_test = train_test_split(X,\n",
    "                                                    y,\n",
    "                                                    random_state=592019,\n",
    "                                                    stratify = y)"
   ]
  },
  {
   "cell_type": "code",
   "execution_count": 14,
   "metadata": {},
   "outputs": [
    {
     "data": {
      "text/plain": [
       "((4443, 17, 16, 10), (1481, 17, 16, 10), (4443, 2), (1481, 2))"
      ]
     },
     "execution_count": 14,
     "metadata": {},
     "output_type": "execute_result"
    }
   ],
   "source": [
    "#Check shapes\n",
    "X_train.shape, X_test.shape, y_train.shape, y_test.shape"
   ]
  },
  {
   "cell_type": "code",
   "execution_count": 15,
   "metadata": {},
   "outputs": [
    {
     "name": "stdout",
     "output_type": "stream",
     "text": [
      "Baseline accuracy is:  69.3 %\n"
     ]
    }
   ],
   "source": [
    "#Display baseline accuracy for restaurants only the dataset\n",
    "baseline = round(y_train[:,0].sum()/y_train.shape[0]*100,2)\n",
    "print('Baseline accuracy is: ',baseline,'%')"
   ]
  },
  {
   "cell_type": "code",
   "execution_count": 16,
   "metadata": {},
   "outputs": [
    {
     "name": "stdout",
     "output_type": "stream",
     "text": [
      "Baseline accuracy is:  69.28 %\n"
     ]
    }
   ],
   "source": [
    "#Display baseline accuracy for restaurants only the dataset\n",
    "baseline = round(y_test[:,0].sum()/y_test.shape[0]*100,2)\n",
    "print('Baseline accuracy is: ',baseline,'%')"
   ]
  },
  {
   "cell_type": "code",
   "execution_count": 17,
   "metadata": {},
   "outputs": [
    {
     "data": {
      "text/plain": [
       "(17, 16, 10)"
      ]
     },
     "execution_count": 17,
     "metadata": {},
     "output_type": "execute_result"
    }
   ],
   "source": [
    "X[0].shape"
   ]
  },
  {
   "cell_type": "code",
   "execution_count": 18,
   "metadata": {
    "scrolled": false
   },
   "outputs": [
    {
     "name": "stdout",
     "output_type": "stream",
     "text": [
      "WARNING:tensorflow:From C:\\Users\\roflo\\Anaconda3\\lib\\site-packages\\tensorflow\\python\\framework\\op_def_library.py:263: colocate_with (from tensorflow.python.framework.ops) is deprecated and will be removed in a future version.\n",
      "Instructions for updating:\n",
      "Colocations handled automatically by placer.\n",
      "WARNING:tensorflow:From C:\\Users\\roflo\\Anaconda3\\lib\\site-packages\\keras\\backend\\tensorflow_backend.py:3445: calling dropout (from tensorflow.python.ops.nn_ops) with keep_prob is deprecated and will be removed in a future version.\n",
      "Instructions for updating:\n",
      "Please use `rate` instead of `keep_prob`. Rate should be set to `rate = 1 - keep_prob`.\n",
      "WARNING:tensorflow:From C:\\Users\\roflo\\Anaconda3\\lib\\site-packages\\tensorflow\\python\\ops\\math_ops.py:3066: to_int32 (from tensorflow.python.ops.math_ops) is deprecated and will be removed in a future version.\n",
      "Instructions for updating:\n",
      "Use tf.cast instead.\n",
      "Train on 4443 samples, validate on 1481 samples\n",
      "Epoch 1/50\n",
      "4443/4443 [==============================] - 14s 3ms/step - loss: 0.8988 - acc: 0.6909 - val_loss: 0.7668 - val_acc: 0.6928\n",
      "Epoch 2/50\n",
      "4443/4443 [==============================] - 13s 3ms/step - loss: 0.6982 - acc: 0.6930 - val_loss: 0.6829 - val_acc: 0.6928\n",
      "Epoch 3/50\n",
      "4443/4443 [==============================] - 13s 3ms/step - loss: 0.6340 - acc: 0.6932 - val_loss: 0.6276 - val_acc: 0.6928\n",
      "Epoch 4/50\n",
      "4443/4443 [==============================] - 13s 3ms/step - loss: 0.5932 - acc: 0.7026 - val_loss: 0.6184 - val_acc: 0.7245\n",
      "Epoch 5/50\n",
      "4443/4443 [==============================] - 17s 4ms/step - loss: 0.5702 - acc: 0.7291 - val_loss: 0.6069 - val_acc: 0.7269\n",
      "Epoch 6/50\n",
      "4443/4443 [==============================] - 13s 3ms/step - loss: 0.5597 - acc: 0.7405 - val_loss: 0.5901 - val_acc: 0.7299\n",
      "Epoch 7/50\n",
      "4443/4443 [==============================] - 13s 3ms/step - loss: 0.5550 - acc: 0.7370 - val_loss: 0.6205 - val_acc: 0.7248\n",
      "Epoch 8/50\n",
      "4443/4443 [==============================] - 13s 3ms/step - loss: 0.5448 - acc: 0.7478 - val_loss: 0.5832 - val_acc: 0.7306\n",
      "Epoch 9/50\n",
      "4443/4443 [==============================] - 13s 3ms/step - loss: 0.5327 - acc: 0.7534 - val_loss: 0.5943 - val_acc: 0.7245\n",
      "Epoch 10/50\n",
      "4443/4443 [==============================] - 12s 3ms/step - loss: 0.5305 - acc: 0.7488 - val_loss: 0.5880 - val_acc: 0.7421\n",
      "Epoch 11/50\n",
      "4443/4443 [==============================] - 14s 3ms/step - loss: 0.5247 - acc: 0.7612 - val_loss: 0.5901 - val_acc: 0.7424\n",
      "Epoch 12/50\n",
      "4443/4443 [==============================] - 16s 4ms/step - loss: 0.5192 - acc: 0.7620 - val_loss: 0.5922 - val_acc: 0.7417\n",
      "Epoch 13/50\n",
      "4443/4443 [==============================] - 20s 4ms/step - loss: 0.5130 - acc: 0.7630 - val_loss: 0.6108 - val_acc: 0.7444\n",
      "Epoch 14/50\n",
      "4443/4443 [==============================] - 18s 4ms/step - loss: 0.5057 - acc: 0.7684 - val_loss: 0.5972 - val_acc: 0.7245\n",
      "Epoch 15/50\n",
      "4443/4443 [==============================] - 14s 3ms/step - loss: 0.5026 - acc: 0.7771 - val_loss: 0.6034 - val_acc: 0.7232\n",
      "Epoch 16/50\n",
      "4443/4443 [==============================] - 14s 3ms/step - loss: 0.5047 - acc: 0.7776 - val_loss: 0.6014 - val_acc: 0.7424\n",
      "Epoch 17/50\n",
      "4443/4443 [==============================] - 13s 3ms/step - loss: 0.4995 - acc: 0.7794 - val_loss: 0.5779 - val_acc: 0.7367\n",
      "Epoch 18/50\n",
      "4443/4443 [==============================] - 13s 3ms/step - loss: 0.4836 - acc: 0.7854 - val_loss: 0.5842 - val_acc: 0.7515\n",
      "Epoch 19/50\n",
      "4443/4443 [==============================] - 13s 3ms/step - loss: 0.4824 - acc: 0.7910 - val_loss: 0.5821 - val_acc: 0.7424\n",
      "Epoch 20/50\n",
      "4443/4443 [==============================] - 13s 3ms/step - loss: 0.4735 - acc: 0.8007 - val_loss: 0.6214 - val_acc: 0.7427\n",
      "Epoch 21/50\n",
      "4443/4443 [==============================] - 13s 3ms/step - loss: 0.4593 - acc: 0.8060 - val_loss: 0.6005 - val_acc: 0.7424\n",
      "Epoch 22/50\n",
      "4443/4443 [==============================] - 13s 3ms/step - loss: 0.4568 - acc: 0.8109 - val_loss: 0.6088 - val_acc: 0.7380\n",
      "Epoch 23/50\n",
      "4443/4443 [==============================] - 13s 3ms/step - loss: 0.4373 - acc: 0.8243 - val_loss: 0.6471 - val_acc: 0.7427\n",
      "\n",
      "Epoch 00023: ReduceLROnPlateau reducing learning rate to 0.0005000000237487257.\n",
      "Epoch 24/50\n",
      "4443/4443 [==============================] - 13s 3ms/step - loss: 0.4093 - acc: 0.8441 - val_loss: 0.6480 - val_acc: 0.7407\n",
      "Epoch 25/50\n",
      "4443/4443 [==============================] - 13s 3ms/step - loss: 0.3803 - acc: 0.8612 - val_loss: 0.6368 - val_acc: 0.7336\n",
      "Epoch 26/50\n",
      "4443/4443 [==============================] - 14s 3ms/step - loss: 0.3662 - acc: 0.8670 - val_loss: 0.7163 - val_acc: 0.7272\n",
      "Epoch 27/50\n",
      "4443/4443 [==============================] - 13s 3ms/step - loss: 0.3576 - acc: 0.8689 - val_loss: 0.7258 - val_acc: 0.7272\n",
      "Epoch 28/50\n",
      "4443/4443 [==============================] - 13s 3ms/step - loss: 0.3333 - acc: 0.8837 - val_loss: 0.7519 - val_acc: 0.7245\n",
      "\n",
      "Epoch 00028: ReduceLROnPlateau reducing learning rate to 0.0002500000118743628.\n",
      "Epoch 29/50\n",
      "4443/4443 [==============================] - 13s 3ms/step - loss: 0.3111 - acc: 0.8919 - val_loss: 0.7672 - val_acc: 0.7221\n",
      "Epoch 30/50\n",
      "4443/4443 [==============================] - 13s 3ms/step - loss: 0.2915 - acc: 0.9033 - val_loss: 0.7422 - val_acc: 0.7215\n",
      "Epoch 31/50\n",
      "4443/4443 [==============================] - 13s 3ms/step - loss: 0.2778 - acc: 0.9003 - val_loss: 0.7937 - val_acc: 0.7323\n",
      "Epoch 32/50\n",
      "4443/4443 [==============================] - 13s 3ms/step - loss: 0.2600 - acc: 0.9185 - val_loss: 0.8349 - val_acc: 0.7306\n",
      "Epoch 33/50\n",
      "4443/4443 [==============================] - 13s 3ms/step - loss: 0.2533 - acc: 0.9212 - val_loss: 0.8471 - val_acc: 0.7299\n",
      "\n",
      "Epoch 00033: ReduceLROnPlateau reducing learning rate to 0.0001250000059371814.\n",
      "Epoch 34/50\n",
      "4443/4443 [==============================] - 14s 3ms/step - loss: 0.2329 - acc: 0.9288 - val_loss: 0.8611 - val_acc: 0.7306\n",
      "Epoch 35/50\n",
      "4443/4443 [==============================] - 14s 3ms/step - loss: 0.2241 - acc: 0.9324 - val_loss: 0.8792 - val_acc: 0.7313\n",
      "Epoch 36/50\n",
      "4443/4443 [==============================] - 14s 3ms/step - loss: 0.2080 - acc: 0.9408 - val_loss: 0.9015 - val_acc: 0.7238\n",
      "Epoch 37/50\n",
      "4443/4443 [==============================] - 13s 3ms/step - loss: 0.2078 - acc: 0.9408 - val_loss: 0.9030 - val_acc: 0.7147\n",
      "Epoch 38/50\n",
      "4443/4443 [==============================] - 14s 3ms/step - loss: 0.2087 - acc: 0.9387 - val_loss: 0.9013 - val_acc: 0.7208\n",
      "\n",
      "Epoch 00038: ReduceLROnPlateau reducing learning rate to 6.25000029685907e-05.\n",
      "Epoch 39/50\n",
      "4443/4443 [==============================] - 13s 3ms/step - loss: 0.2029 - acc: 0.9443 - val_loss: 0.9137 - val_acc: 0.7286\n",
      "Epoch 40/50\n",
      "4443/4443 [==============================] - 13s 3ms/step - loss: 0.1914 - acc: 0.9463 - val_loss: 0.9364 - val_acc: 0.7238\n",
      "Epoch 41/50\n",
      "4443/4443 [==============================] - 12s 3ms/step - loss: 0.1993 - acc: 0.9440 - val_loss: 0.9413 - val_acc: 0.7164\n",
      "Epoch 42/50\n",
      "4443/4443 [==============================] - 17s 4ms/step - loss: 0.1961 - acc: 0.9443 - val_loss: 0.9537 - val_acc: 0.7218\n",
      "Epoch 43/50\n",
      "4443/4443 [==============================] - 13s 3ms/step - loss: 0.2034 - acc: 0.9406 - val_loss: 0.9599 - val_acc: 0.7252\n",
      "\n",
      "Epoch 00043: ReduceLROnPlateau reducing learning rate to 3.125000148429535e-05.\n",
      "Epoch 44/50\n",
      "4443/4443 [==============================] - 14s 3ms/step - loss: 0.1891 - acc: 0.9479 - val_loss: 0.9505 - val_acc: 0.7191\n",
      "Epoch 45/50\n",
      "4443/4443 [==============================] - 14s 3ms/step - loss: 0.1731 - acc: 0.9541 - val_loss: 0.9679 - val_acc: 0.7235\n",
      "Epoch 46/50\n",
      "4443/4443 [==============================] - 14s 3ms/step - loss: 0.1880 - acc: 0.9472 - val_loss: 0.9602 - val_acc: 0.7232\n",
      "Epoch 47/50\n",
      "4443/4443 [==============================] - 14s 3ms/step - loss: 0.1749 - acc: 0.9572 - val_loss: 0.9782 - val_acc: 0.7255\n",
      "Epoch 48/50\n",
      "4443/4443 [==============================] - 15s 3ms/step - loss: 0.1825 - acc: 0.9543 - val_loss: 0.9732 - val_acc: 0.7252\n",
      "\n",
      "Epoch 00048: ReduceLROnPlateau reducing learning rate to 1.5625000742147677e-05.\n",
      "Epoch 49/50\n",
      "4443/4443 [==============================] - 14s 3ms/step - loss: 0.1777 - acc: 0.9545 - val_loss: 0.9759 - val_acc: 0.7265\n",
      "Epoch 50/50\n",
      "4443/4443 [==============================] - 14s 3ms/step - loss: 0.1623 - acc: 0.9593 - val_loss: 0.9885 - val_acc: 0.7252\n"
     ]
    }
   ],
   "source": [
    "#Instantiate the model\n",
    "#Create the network architechture\n",
    "\n",
    "cnn_model = Sequential()\n",
    "\n",
    "cnn_model.add(Conv2D(filters = 64,\n",
    "                     kernel_size = (5,5),\n",
    "                     activation = 'relu',\n",
    "                     input_shape = (X[0].shape),\n",
    "                     padding = 'Same',\n",
    "#                      kernel_regularizer = regularizers.l2(0.001)\n",
    "                    ))\n",
    "\n",
    "cnn_model.add(Conv2D(filters = 32,\n",
    "                     kernel_size = (5,5),\n",
    "                     activation = 'relu',\n",
    "                     padding = 'Same',\n",
    "                     kernel_regularizer = regularizers.l2(0.001)\n",
    "                    ))\n",
    "\n",
    "cnn_model.add(MaxPooling2D(pool_size = (2,2)))\n",
    "cnn_model.add(Dropout(0.3))\n",
    "\n",
    "cnn_model.add(Conv2D(filters = 64,\n",
    "                     kernel_size = (3,3),\n",
    "                     activation = 'relu',\n",
    "                     padding = 'Same',\n",
    "#                      kernel_regularizer = regularizers.l2(0.001)\n",
    "                    ))\n",
    "\n",
    "cnn_model.add(Conv2D(filters = 64,\n",
    "                     kernel_size = (3,3),\n",
    "                     activation = 'relu',\n",
    "                     padding = 'Same',\n",
    "#                      kernel_regularizer = regularizers.l2(0.001)\n",
    "                    ))\n",
    "cnn_model.add(MaxPooling2D(pool_size = (2,2)))\n",
    "cnn_model.add(Dropout(0.3))\n",
    "\n",
    "#Flatten\n",
    "cnn_model.add(Flatten())\n",
    "\n",
    "cnn_model.add(Dense(256,\n",
    "                    activation = 'relu',\n",
    "                    kernel_regularizer=regularizers.l2(0.001)\n",
    "                   ))\n",
    "cnn_model.add(Dropout(0.3))\n",
    "\n",
    "cnn_model.add(Dense(32,\n",
    "                    activation = 'relu',\n",
    "                    kernel_regularizer=regularizers.l2(0.001)\n",
    "                   ))\n",
    "cnn_model.add(Dropout(0.3))\n",
    "\n",
    "cnn_model.add(Dense(2,\n",
    "                activation = 'sigmoid'\n",
    "))\n",
    "\n",
    "\n",
    "# opt = optimizers.Nadam()\n",
    "# opt = optimizers.Adamax(lr=0.001)\n",
    "opt = optimizers.Adam(lr=.001)\n",
    "#0.001, 0.005\n",
    "\n",
    "#Pleateau Reduction\n",
    "learning_rate_reduction = ReduceLROnPlateau(monitor='val_acc', \n",
    "                                            patience=5, \n",
    "                                            verbose=1, \n",
    "                                            factor=0.5, \n",
    "                                            min_lr=0.00001)\n",
    "\n",
    "#Compile the model\n",
    "cnn_model.compile(loss='binary_crossentropy',\n",
    "              optimizer=opt,\n",
    "              metrics=['accuracy'])\n",
    "\n",
    "eps = 50\n",
    "batch = 64\n",
    "\n",
    "#70 with 256\n",
    "\n",
    "# eps = 30\n",
    "# batch = 256, 512\n",
    "\n",
    "# Fit model on training data.\n",
    "history = cnn_model.fit(X_train,\n",
    "                        y_train,\n",
    "                        validation_data=(X_test, y_test),\n",
    "                        epochs=eps,\n",
    "                        batch_size=batch,\n",
    "                        callbacks = [learning_rate_reduction],\n",
    "                        verbose=1)\n",
    "\n"
   ]
  },
  {
   "cell_type": "code",
   "execution_count": 19,
   "metadata": {},
   "outputs": [
    {
     "data": {
      "image/png": "[encoded data removed]",
      "text/plain": [
       "<Figure size 864x432 with 1 Axes>"
      ]
     },
     "metadata": {
      "needs_background": "light"
     },
     "output_type": "display_data"
    }
   ],
   "source": [
    "# Check out our train loss and test loss over epochs.\n",
    "train_loss = history.history['loss']\n",
    "test_loss = history.history['val_loss']\n",
    "\n",
    "# Set figure size.\n",
    "plt.figure(figsize=(12,6))\n",
    "\n",
    "# Generate line plot of training, testing loss over epochs.\n",
    "plt.plot(train_loss, label='Training Loss', color='#185fad')\n",
    "plt.plot(test_loss, label='Testing Loss', color='orange')\n",
    "\n",
    "# Set title\n",
    "plt.title('Training and Testing Loss by Epoch', fontsize = 12, pad=10)\n",
    "plt.xlabel('Epoch', fontsize = 10, labelpad =20)\n",
    "plt.ylabel('Categorical Crossentropy', fontsize = 10, labelpad =20)\n",
    "# plt.xticks(range(1,eps+1))\n",
    "\n",
    "plt.legend(fontsize = 10);"
   ]
  },
  {
   "cell_type": "code",
   "execution_count": 20,
   "metadata": {},
   "outputs": [
    {
     "data": {
      "image/png": "[encoded data removed]",
      "text/plain": [
       "<Figure size 864x432 with 1 Axes>"
      ]
     },
     "metadata": {
      "needs_background": "light"
     },
     "output_type": "display_data"
    }
   ],
   "source": [
    "# Check out our train accuracy and test accuracy over epochs.\n",
    "train_loss = history.history['acc']\n",
    "test_loss = history.history['val_acc']\n",
    "\n",
    "# Set figure size.\n",
    "plt.figure(figsize=(12,6))\n",
    "\n",
    "# Generate line plot of training, testing loss over epochs.\n",
    "plt.plot(train_loss, label='Training accuracy', color='#185fad')\n",
    "plt.plot(test_loss, label='Testing accuracy', color='orange')\n",
    "\n",
    "# Set title\n",
    "plt.title('Training and Testing accuracy by Epoch', fontsize = 12, pad = 10)\n",
    "plt.xlabel('Epoch', fontsize = 10, labelpad =20)\n",
    "plt.ylabel('Accuracy', fontsize = 10, labelpad =20)\n",
    "# plt.xticks(range(1,eps+1), rotation = 90)\n",
    "\n",
    "plt.legend(fontsize = 10);"
   ]
  },
  {
   "cell_type": "markdown",
   "metadata": {},
   "source": [
    "# Grid search"
   ]
  },
  {
   "cell_type": "code",
   "execution_count": 69,
   "metadata": {},
   "outputs": [
    {
     "name": "stdout",
     "output_type": "stream",
     "text": [
      "Epoch 1/50\n",
      "4443/4443 [==============================] - 12s 3ms/step - loss: 5.5063 - acc: 0.6465\n",
      "Epoch 2/50\n",
      "4443/4443 [==============================] - 8s 2ms/step - loss: 2.0998 - acc: 0.6430\n",
      "Epoch 3/50\n",
      "4443/4443 [==============================] - 7s 2ms/step - loss: 1.3099 - acc: 0.6762\n",
      "Epoch 4/50\n",
      "4443/4443 [==============================] - 7s 2ms/step - loss: 0.9900 - acc: 0.6829\n",
      "Epoch 5/50\n",
      "4443/4443 [==============================] - 7s 2ms/step - loss: 0.8862 - acc: 0.6903\n",
      "Epoch 6/50\n",
      "4443/4443 [==============================] - 7s 2ms/step - loss: 0.7815 - acc: 0.6884\n",
      "Epoch 7/50\n",
      "4443/4443 [==============================] - 7s 1ms/step - loss: 0.7147 - acc: 0.6918\n",
      "Epoch 8/50\n",
      "4443/4443 [==============================] - 6s 1ms/step - loss: 0.6728 - acc: 0.6929\n",
      "Epoch 9/50\n",
      "4443/4443 [==============================] - 7s 2ms/step - loss: 0.6530 - acc: 0.6914\n",
      "Epoch 10/50\n",
      "4443/4443 [==============================] - 6s 1ms/step - loss: 0.6362 - acc: 0.6955\n",
      "Epoch 11/50\n",
      "4443/4443 [==============================] - 6s 1ms/step - loss: 0.6241 - acc: 0.7023\n",
      "Epoch 12/50\n",
      "4443/4443 [==============================] - 7s 2ms/step - loss: 0.6166 - acc: 0.7092\n",
      "Epoch 13/50\n",
      "4443/4443 [==============================] - 8s 2ms/step - loss: 0.6052 - acc: 0.7185\n",
      "Epoch 14/50\n",
      "4443/4443 [==============================] - 7s 2ms/step - loss: 0.5966 - acc: 0.7301\n",
      "Epoch 15/50\n",
      "4443/4443 [==============================] - 6s 1ms/step - loss: 0.6000 - acc: 0.7369\n",
      "Epoch 16/50\n",
      "4443/4443 [==============================] - 7s 1ms/step - loss: 0.5949 - acc: 0.7387\n",
      "Epoch 17/50\n",
      "4443/4443 [==============================] - 7s 1ms/step - loss: 0.5968 - acc: 0.7439\n",
      "Epoch 18/50\n",
      "4443/4443 [==============================] - 7s 1ms/step - loss: 0.5843 - acc: 0.7409\n",
      "Epoch 19/50\n",
      "4443/4443 [==============================] - 7s 1ms/step - loss: 0.5825 - acc: 0.7444\n",
      "Epoch 20/50\n",
      "4443/4443 [==============================] - 6s 1ms/step - loss: 0.5839 - acc: 0.7479\n",
      "Epoch 21/50\n",
      "4443/4443 [==============================] - 7s 2ms/step - loss: 0.5786 - acc: 0.7480\n",
      "Epoch 22/50\n",
      "4443/4443 [==============================] - 7s 2ms/step - loss: 0.5770 - acc: 0.7508\n",
      "Epoch 23/50\n",
      "4443/4443 [==============================] - 7s 1ms/step - loss: 0.5776 - acc: 0.7484\n",
      "Epoch 24/50\n",
      "4443/4443 [==============================] - 8s 2ms/step - loss: 0.5822 - acc: 0.7513\n",
      "Epoch 25/50\n",
      "4443/4443 [==============================] - 7s 1ms/step - loss: 0.5788 - acc: 0.7493\n",
      "Epoch 26/50\n",
      "4443/4443 [==============================] - 7s 1ms/step - loss: 0.5765 - acc: 0.7454\n",
      "Epoch 27/50\n",
      "4443/4443 [==============================] - 7s 2ms/step - loss: 0.5760 - acc: 0.7514\n",
      "Epoch 28/50\n",
      "4443/4443 [==============================] - 7s 2ms/step - loss: 0.5668 - acc: 0.7504\n",
      "Epoch 29/50\n",
      "4443/4443 [==============================] - 7s 2ms/step - loss: 0.5682 - acc: 0.7470\n",
      "Epoch 30/50\n",
      "4443/4443 [==============================] - 7s 2ms/step - loss: 0.5733 - acc: 0.7472\n",
      "Epoch 31/50\n",
      "4443/4443 [==============================] - 7s 2ms/step - loss: 0.5749 - acc: 0.7503\n",
      "Epoch 32/50\n",
      "4443/4443 [==============================] - 7s 2ms/step - loss: 0.5790 - acc: 0.7503\n",
      "Epoch 33/50\n",
      "4443/4443 [==============================] - 7s 2ms/step - loss: 0.5783 - acc: 0.7511\n",
      "Epoch 34/50\n",
      "4443/4443 [==============================] - 7s 2ms/step - loss: 0.5742 - acc: 0.7502\n",
      "Epoch 35/50\n",
      "4443/4443 [==============================] - 7s 2ms/step - loss: 0.5725 - acc: 0.7488\n",
      "Epoch 36/50\n",
      "4443/4443 [==============================] - 7s 1ms/step - loss: 0.5722 - acc: 0.7535\n",
      "Epoch 37/50\n",
      "4443/4443 [==============================] - 7s 2ms/step - loss: 0.5739 - acc: 0.7522\n",
      "Epoch 38/50\n",
      "4443/4443 [==============================] - 6s 1ms/step - loss: 0.5715 - acc: 0.7534\n",
      "Epoch 39/50\n",
      "4443/4443 [==============================] - 7s 2ms/step - loss: 0.5706 - acc: 0.7478\n",
      "Epoch 40/50\n",
      "4443/4443 [==============================] - 7s 2ms/step - loss: 0.5669 - acc: 0.7570\n",
      "Epoch 41/50\n",
      "4443/4443 [==============================] - 6s 1ms/step - loss: 0.5763 - acc: 0.7580\n",
      "Epoch 42/50\n",
      "4443/4443 [==============================] - 7s 2ms/step - loss: 0.5777 - acc: 0.7569\n",
      "Epoch 43/50\n",
      "4443/4443 [==============================] - 7s 2ms/step - loss: 0.5794 - acc: 0.7475\n",
      "Epoch 44/50\n",
      "4443/4443 [==============================] - 7s 2ms/step - loss: 0.5759 - acc: 0.7525\n",
      "Epoch 45/50\n",
      "4443/4443 [==============================] - 7s 2ms/step - loss: 0.5723 - acc: 0.7530\n",
      "Epoch 46/50\n",
      "4443/4443 [==============================] - 6s 1ms/step - loss: 0.5725 - acc: 0.7535\n",
      "Epoch 47/50\n",
      "4443/4443 [==============================] - 7s 2ms/step - loss: 0.5654 - acc: 0.7575\n",
      "Epoch 48/50\n",
      "4443/4443 [==============================] - 7s 2ms/step - loss: 0.5709 - acc: 0.7540\n",
      "Epoch 49/50\n",
      "4443/4443 [==============================] - 7s 2ms/step - loss: 0.5664 - acc: 0.7602\n",
      "Epoch 50/50\n",
      "4443/4443 [==============================] - 6s 1ms/step - loss: 0.5737 - acc: 0.7576\n"
     ]
    }
   ],
   "source": [
    "#Set seeds for reproducibility\n",
    "seed = 5142019\n",
    "np.random.seed(seed)\n",
    "\n",
    "#Create a model function\n",
    "def create_model(filters_cl1 = 64,\n",
    "                 kernel_size_cl1 = (5,5),\n",
    "                 activ = 'relu',\n",
    "                 input_shp = X_train[0].shape,\n",
    "                 padding_cl1 = 'Same',\n",
    "                 regular = 0.001,\n",
    "                 neurons_dl1 = 256,\n",
    "                 drop_rate = 0.3,\n",
    "                 lr_opt = 0.002,\n",
    "                 decay_opt = 0.0,\n",
    "                 init_mode='uniform'):\n",
    "    \n",
    "    cnn_model = Sequential()\n",
    "    cnn_model.add(Conv2D(filters = filters_cl1,\n",
    "                         kernel_size = kernel_size_cl1,\n",
    "                         kernel_initializer = init_mode,\n",
    "                         activation = activ,\n",
    "                         input_shape = input_shp,\n",
    "                         padding = padding_cl1,\n",
    "                         kernel_regularizer = regularizers.l2(regular)))\n",
    "    cnn_model.add(Dropout(drop_rate))\n",
    "    \n",
    "    cnn_model.add(Flatten())\n",
    "    cnn_model.add(Dense(neurons_dl1,\n",
    "                        activation = activ,\n",
    "                        kernel_regularizer=regularizers.l2(regular)))\n",
    "    cnn_model.add(Dropout(drop_rate))\n",
    "    cnn_model.add(Dense(2,\n",
    "                        activation = 'sigmoid'))\n",
    "    \n",
    "    #Set optimizer\n",
    "    opt = Adamax(lr=lr_opt, decay=decay_opt)\n",
    "    #Compile the model\n",
    "    cnn_model.compile(loss='binary_crossentropy',\n",
    "                      optimizer=opt,\n",
    "                      metrics=['accuracy'])\n",
    "    \n",
    "    return cnn_model\n",
    "\n",
    "\n",
    "model = KerasClassifier(build_fn = create_model,\n",
    "                        epochs = 20,\n",
    "                        batch_size = 256,\n",
    "                        verbose = 1)\n",
    "\n",
    "#GridSearch Parameters\n",
    "batch_size = [512]\n",
    "epochs = [50]\n",
    "lr_opt = [0.007]\n",
    "init_mode = ['glorot_uniform']\n",
    "regular = [0.01]\n",
    "drop_rate = [0.5]\n",
    "\n",
    "param_grid = dict(batch_size=batch_size,\n",
    "                  epochs=epochs,\n",
    "                  lr_opt = lr_opt,\n",
    "                  init_mode = init_mode,\n",
    "                  regular = regular,\n",
    "                  drop_rate = drop_rate)\n",
    "\n",
    "grid = GridSearchCV(estimator=model, param_grid=param_grid, n_jobs=-1)\n",
    "grid_result = grid.fit(X_train, y_train)"
   ]
  },
  {
   "cell_type": "code",
   "execution_count": 70,
   "metadata": {},
   "outputs": [
    {
     "name": "stdout",
     "output_type": "stream",
     "text": [
      "Best: 0.747693 using {'batch_size': 512, 'drop_rate': 0.5, 'epochs': 50, 'init_mode': 'glorot_uniform', 'lr_opt': 0.007, 'regular': 0.01}\n",
      "(0.7288993967027512, {'batch_size': 512, 'drop_rate': 0.1, 'epochs': 50, 'init_mode': 'glorot_uniform', 'lr_opt': 0.007, 'regular': 0.01})\n",
      "(0.7460049522666279, {'batch_size': 512, 'drop_rate': 0.3, 'epochs': 50, 'init_mode': 'glorot_uniform', 'lr_opt': 0.007, 'regular': 0.01})\n",
      "(0.7476930017812602, {'batch_size': 512, 'drop_rate': 0.5, 'epochs': 50, 'init_mode': 'glorot_uniform', 'lr_opt': 0.007, 'regular': 0.01})\n",
      "(0.7384649979056686, {'batch_size': 512, 'drop_rate': 0.7, 'epochs': 50, 'init_mode': 'glorot_uniform', 'lr_opt': 0.007, 'regular': 0.01})\n",
      "(0.7398154413058847, {'batch_size': 512, 'drop_rate': 0.8, 'epochs': 50, 'init_mode': 'glorot_uniform', 'lr_opt': 0.007, 'regular': 0.01})\n"
     ]
    }
   ],
   "source": [
    "#Summary of results\n",
    "print(\"Best: %f using %s\" % (grid_result.best_score_, grid_result.best_params_))\n",
    "means = grid_result.cv_results_['mean_test_score']\n",
    "params = grid_result.cv_results_['params']\n",
    "for mean,param in zip(means, params):\n",
    "    print((mean, param))"
   ]
  },
  {
   "cell_type": "code",
   "execution_count": null,
   "metadata": {},
   "outputs": [],
   "source": []
  },
  {
   "cell_type": "code",
   "execution_count": null,
   "metadata": {},
   "outputs": [],
   "source": []
  },
  {
   "cell_type": "markdown",
   "metadata": {},
   "source": [
    "### Model evaluation"
   ]
  },
  {
   "cell_type": "code",
   "execution_count": null,
   "metadata": {},
   "outputs": [],
   "source": [
    "# Evaluate model on test data.\n",
    "score = cnn_model.evaluate(X_test,\n",
    "                       y_test,\n",
    "                       verbose=1)\n",
    "\n",
    "labels = cnn_model.metrics_names"
   ]
  },
  {
   "cell_type": "code",
   "execution_count": null,
   "metadata": {},
   "outputs": [],
   "source": [
    "# Show model performance.\n",
    "print(f'{labels[0]}: {score[0]}')\n",
    "print(f'{labels[1]}: {score[1]}')"
   ]
  },
  {
   "cell_type": "code",
   "execution_count": null,
   "metadata": {},
   "outputs": [],
   "source": []
  },
  {
   "cell_type": "code",
   "execution_count": null,
   "metadata": {},
   "outputs": [],
   "source": []
  }
 ],
 "metadata": {
  "kernelspec": {
   "display_name": "Python 3",
   "language": "python",
   "name": "python3"
  },
  "language_info": {
   "codemirror_mode": {
    "name": "ipython",
    "version": 3
   },
   "file_extension": ".py",
   "mimetype": "text/x-python",
   "name": "python",
   "nbconvert_exporter": "python",
   "pygments_lexer": "ipython3",
   "version": "3.7.3"
  }
 },
 "nbformat": 4,
 "nbformat_minor": 2
}
