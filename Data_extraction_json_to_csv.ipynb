{
 "cells": [
  {
   "cell_type": "markdown",
   "metadata": {},
   "source": [
    "<img src=\"images/generalassembly-open-graph.png\" width=\"240\" height=\"240\" align=\"left\"/>"
   ]
  },
  {
   "cell_type": "markdown",
   "metadata": {},
   "source": [
    "# Data extraction notebook\n",
    "**Author: Rodolfo Flores Mendez**\n",
    "<br> May 2019 | Chicago, IL."
   ]
  },
  {
   "cell_type": "markdown",
   "metadata": {},
   "source": [
    "### Table of contents\n",
    "- [Overview](#ov)\n",
    "- [Importing libraries](#imp)\n",
    "- [Convert from Json to CSV](#conv)"
   ]
  },
  {
   "cell_type": "markdown",
   "metadata": {},
   "source": [
    "### Overview<a id=\"ov\"></a>\n",
    "This notebook contains the code to convert the JSON files of the Yelp Academic Dataset into a CSV format. This is performed in order to read and manipulate the data in pandas and numpy for modelling purposes. The output of this notebook will be used in subsequent notebooks of this repository. "
   ]
  },
  {
   "cell_type": "markdown",
   "metadata": {},
   "source": [
    "### Importing libraries<a id=\"imp\"></a>\n",
    "In this section we outline the initial code needed to run this workbook. If this code returns an error we recommend the reader to verify that the most up to date version of the libraries mentioned below have been installed in their computers. For a guideline on python installation of modules please refer to the __[official documentation](https://docs.python.org/3/installing/)__."
   ]
  },
  {
   "cell_type": "code",
   "execution_count": 9,
   "metadata": {},
   "outputs": [],
   "source": [
    "#Importing relevant libraries\n",
    "import pandas as pd\n",
    "import numpy as np\n",
    "import json\n"
   ]
  },
  {
   "cell_type": "markdown",
   "metadata": {},
   "source": [
    "### Convert from JSON to CSV <a id=\"conv\"></a>\n",
    "The following lines of code convert the JSON files from the Yelp Academic Dataset into CSV files that will be used for modelling in subsequent notebooks.\n",
    "##### Business dataset"
   ]
  },
  {
   "cell_type": "code",
   "execution_count": 10,
   "metadata": {},
   "outputs": [],
   "source": [
    "#Open and read the json file\n",
    "with open('./yelp_dataset/business.json', 'rb') as f:\n",
    "    data = f.readlines()\n",
    "\n",
    "#Convert each row of the Json file into a dictionary\n",
    "data = [eval(x.decode().rstrip().replace('null','None')) for x in data]\n",
    "\n",
    "#Create a dataframe (note - this dataframe still has columns that have nested attributes/features)\n",
    "df_business = pd.DataFrame(data)\n",
    "df_business.to_csv('business.csv')"
   ]
  },
  {
   "cell_type": "markdown",
   "metadata": {},
   "source": [
    "##### Checkin dataset"
   ]
  },
  {
   "cell_type": "code",
   "execution_count": 11,
   "metadata": {},
   "outputs": [],
   "source": [
    "#Open and read the json file\n",
    "with open('./yelp_dataset/checkin.json', 'rb') as f:\n",
    "    data = f.readlines()\n",
    "\n",
    "#Convert each row of the Json file into a dictionary\n",
    "data = [eval(x.decode().rstrip().replace('null','None')) for x in data]\n",
    "\n",
    "#Create a dataframe (note - this dataframe still has columns that have nested attributes/features)\n",
    "df_checkin = pd.DataFrame(data)\n",
    "df_checkin.to_csv('checkin.csv')"
   ]
  },
  {
   "cell_type": "markdown",
   "metadata": {},
   "source": [
    "##### Tip dataset"
   ]
  },
  {
   "cell_type": "code",
   "execution_count": 12,
   "metadata": {},
   "outputs": [],
   "source": [
    "#Open and read the json file\n",
    "with open('./yelp_dataset/tip.json', 'rb') as f:\n",
    "    data = f.readlines()\n",
    "\n",
    "#Convert each row of the Json file into a dictionary\n",
    "data = [eval(x.decode().rstrip().replace('null','None')) for x in data]\n",
    "\n",
    "#Create a dataframe (note - this dataframe still has columns that have nested attributes/features)\n",
    "df_tip = pd.DataFrame(data)\n",
    "df_tip.to_csv('tip.csv')"
   ]
  },
  {
   "cell_type": "markdown",
   "metadata": {},
   "source": [
    "##### User dataset"
   ]
  },
  {
   "cell_type": "code",
   "execution_count": 13,
   "metadata": {},
   "outputs": [],
   "source": [
    "#Open and read the json file\n",
    "with open('./yelp_dataset/user.json', 'rb') as f:\n",
    "    data = f.readlines()\n",
    "\n",
    "#Convert each row of the Json file into a dictionary\n",
    "data = [eval(x.decode().rstrip().replace('null','None')) for x in data]\n",
    "\n",
    "#Create a dataframe (note - this dataframe still has columns that have nested attributes/features)\n",
    "df_user = pd.DataFrame(data)\n",
    "df_user.to_csv('user.csv')"
   ]
  },
  {
   "cell_type": "markdown",
   "metadata": {},
   "source": [
    "##### Review dataset"
   ]
  },
  {
   "cell_type": "code",
   "execution_count": null,
   "metadata": {},
   "outputs": [],
   "source": [
    "#Open and read the json file\n",
    "with open('./yelp_dataset/review.json', 'rb') as f:\n",
    "    data = f.readlines()\n",
    "\n",
    "#Convert each row of the Json file into a dictionary\n",
    "data = [eval(x.decode().rstrip().replace('null','None')) for x in data]\n",
    "\n",
    "#Create a dataframe (note - this dataframe still has columns that have nested attributes/features)\n",
    "df_review = pd.DataFrame(data)\n",
    "df_review.to_csv('review.csv')"
   ]
  }
 ],
 "metadata": {
  "kernelspec": {
   "display_name": "Python 3",
   "language": "python",
   "name": "python3"
  },
  "language_info": {
   "codemirror_mode": {
    "name": "ipython",
    "version": 3
   },
   "file_extension": ".py",
   "mimetype": "text/x-python",
   "name": "python",
   "nbconvert_exporter": "python",
   "pygments_lexer": "ipython3",
   "version": "3.7.3"
  }
 },
 "nbformat": 4,
 "nbformat_minor": 2
}
